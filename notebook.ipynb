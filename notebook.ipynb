{
 "cells": [
  {
   "cell_type": "code",
   "execution_count": 1,
   "id": "b6f14167-1858-439d-83f2-5b8df1eac738",
   "metadata": {},
   "outputs": [
    {
     "name": "stdout",
     "output_type": "stream",
     "text": [
      "Requirement already satisfied: pandas in c:\\users\\cheth\\onedrive\\desktop\\bugbytes-ml\\breakingbug-ml\\venv\\lib\\site-packages (2.2.2)Note: you may need to restart the kernel to use updated packages.\n",
      "\n",
      "Requirement already satisfied: numpy in c:\\users\\cheth\\onedrive\\desktop\\bugbytes-ml\\breakingbug-ml\\venv\\lib\\site-packages (2.0.1)\n",
      "Requirement already satisfied: scikit-learn in c:\\users\\cheth\\onedrive\\desktop\\bugbytes-ml\\breakingbug-ml\\venv\\lib\\site-packages (1.5.1)\n",
      "Requirement already satisfied: xgboost in c:\\users\\cheth\\onedrive\\desktop\\bugbytes-ml\\breakingbug-ml\\venv\\lib\\site-packages (2.1.1)\n",
      "Requirement already satisfied: python-dateutil>=2.8.2 in c:\\users\\cheth\\onedrive\\desktop\\bugbytes-ml\\breakingbug-ml\\venv\\lib\\site-packages (from pandas) (2.9.0.post0)\n",
      "Requirement already satisfied: pytz>=2020.1 in c:\\users\\cheth\\onedrive\\desktop\\bugbytes-ml\\breakingbug-ml\\venv\\lib\\site-packages (from pandas) (2024.1)\n",
      "Requirement already satisfied: tzdata>=2022.7 in c:\\users\\cheth\\onedrive\\desktop\\bugbytes-ml\\breakingbug-ml\\venv\\lib\\site-packages (from pandas) (2024.1)\n",
      "Requirement already satisfied: scipy>=1.6.0 in c:\\users\\cheth\\onedrive\\desktop\\bugbytes-ml\\breakingbug-ml\\venv\\lib\\site-packages (from scikit-learn) (1.14.0)\n",
      "Requirement already satisfied: joblib>=1.2.0 in c:\\users\\cheth\\onedrive\\desktop\\bugbytes-ml\\breakingbug-ml\\venv\\lib\\site-packages (from scikit-learn) (1.4.2)\n",
      "Requirement already satisfied: threadpoolctl>=3.1.0 in c:\\users\\cheth\\onedrive\\desktop\\bugbytes-ml\\breakingbug-ml\\venv\\lib\\site-packages (from scikit-learn) (3.5.0)\n",
      "Requirement already satisfied: six>=1.5 in c:\\users\\cheth\\onedrive\\desktop\\bugbytes-ml\\breakingbug-ml\\venv\\lib\\site-packages (from python-dateutil>=2.8.2->pandas) (1.16.0)\n"
     ]
    },
    {
     "name": "stderr",
     "output_type": "stream",
     "text": [
      "\n",
      "[notice] A new release of pip is available: 24.0 -> 24.2\n",
      "[notice] To update, run: python.exe -m pip install --upgrade pip\n"
     ]
    }
   ],
   "source": [
    "pip install pandas numpy scikit-learn xgboost"
   ]
  },
  {
   "cell_type": "code",
   "execution_count": 2,
   "id": "a464e3c6-6928-4284-8163-3a605038888d",
   "metadata": {},
   "outputs": [
    {
     "name": "stdout",
     "output_type": "stream",
     "text": [
      "Requirement already satisfied: matplotlib in c:\\users\\cheth\\onedrive\\desktop\\bugbytes-ml\\breakingbug-ml\\venv\\lib\\site-packages (3.9.1)\n",
      "Requirement already satisfied: seaborn in c:\\users\\cheth\\onedrive\\desktop\\bugbytes-ml\\breakingbug-ml\\venv\\lib\\site-packages (0.13.2)\n",
      "Requirement already satisfied: contourpy>=1.0.1 in c:\\users\\cheth\\onedrive\\desktop\\bugbytes-ml\\breakingbug-ml\\venv\\lib\\site-packages (from matplotlib) (1.2.1)\n",
      "Requirement already satisfied: cycler>=0.10 in c:\\users\\cheth\\onedrive\\desktop\\bugbytes-ml\\breakingbug-ml\\venv\\lib\\site-packages (from matplotlib) (0.12.1)\n",
      "Requirement already satisfied: fonttools>=4.22.0 in c:\\users\\cheth\\onedrive\\desktop\\bugbytes-ml\\breakingbug-ml\\venv\\lib\\site-packages (from matplotlib) (4.53.1)\n",
      "Requirement already satisfied: kiwisolver>=1.3.1 in c:\\users\\cheth\\onedrive\\desktop\\bugbytes-ml\\breakingbug-ml\\venv\\lib\\site-packages (from matplotlib) (1.4.5)\n",
      "Requirement already satisfied: numpy>=1.23 in c:\\users\\cheth\\onedrive\\desktop\\bugbytes-ml\\breakingbug-ml\\venv\\lib\\site-packages (from matplotlib) (2.0.1)\n",
      "Requirement already satisfied: packaging>=20.0 in c:\\users\\cheth\\onedrive\\desktop\\bugbytes-ml\\breakingbug-ml\\venv\\lib\\site-packages (from matplotlib) (24.1)\n",
      "Requirement already satisfied: pillow>=8 in c:\\users\\cheth\\onedrive\\desktop\\bugbytes-ml\\breakingbug-ml\\venv\\lib\\site-packages (from matplotlib) (10.4.0)\n",
      "Requirement already satisfied: pyparsing>=2.3.1 in c:\\users\\cheth\\onedrive\\desktop\\bugbytes-ml\\breakingbug-ml\\venv\\lib\\site-packages (from matplotlib) (3.1.2)\n",
      "Requirement already satisfied: python-dateutil>=2.7 in c:\\users\\cheth\\onedrive\\desktop\\bugbytes-ml\\breakingbug-ml\\venv\\lib\\site-packages (from matplotlib) (2.9.0.post0)\n",
      "Requirement already satisfied: pandas>=1.2 in c:\\users\\cheth\\onedrive\\desktop\\bugbytes-ml\\breakingbug-ml\\venv\\lib\\site-packages (from seaborn) (2.2.2)\n",
      "Requirement already satisfied: pytz>=2020.1 in c:\\users\\cheth\\onedrive\\desktop\\bugbytes-ml\\breakingbug-ml\\venv\\lib\\site-packages (from pandas>=1.2->seaborn) (2024.1)\n",
      "Requirement already satisfied: tzdata>=2022.7 in c:\\users\\cheth\\onedrive\\desktop\\bugbytes-ml\\breakingbug-ml\\venv\\lib\\site-packages (from pandas>=1.2->seaborn) (2024.1)\n",
      "Requirement already satisfied: six>=1.5 in c:\\users\\cheth\\onedrive\\desktop\\bugbytes-ml\\breakingbug-ml\\venv\\lib\\site-packages (from python-dateutil>=2.7->matplotlib) (1.16.0)\n",
      "Note: you may need to restart the kernel to use updated packages.\n"
     ]
    },
    {
     "name": "stderr",
     "output_type": "stream",
     "text": [
      "\n",
      "[notice] A new release of pip is available: 24.0 -> 24.2\n",
      "[notice] To update, run: python.exe -m pip install --upgrade pip\n"
     ]
    }
   ],
   "source": [
    "pip install matplotlib seaborn"
   ]
  },
  {
   "cell_type": "code",
   "execution_count": 3,
   "id": "6b188c12-527d-4fa8-b683-36c427100e96",
   "metadata": {},
   "outputs": [
    {
     "name": "stdout",
     "output_type": "stream",
     "text": [
      "Requirement already satisfied: plotly in c:\\users\\cheth\\onedrive\\desktop\\bugbytes-ml\\breakingbug-ml\\venv\\lib\\site-packages (5.23.0)\n",
      "Requirement already satisfied: tenacity>=6.2.0 in c:\\users\\cheth\\onedrive\\desktop\\bugbytes-ml\\breakingbug-ml\\venv\\lib\\site-packages (from plotly) (9.0.0)\n",
      "Requirement already satisfied: packaging in c:\\users\\cheth\\onedrive\\desktop\\bugbytes-ml\\breakingbug-ml\\venv\\lib\\site-packages (from plotly) (24.1)\n",
      "Note: you may need to restart the kernel to use updated packages.\n"
     ]
    },
    {
     "name": "stderr",
     "output_type": "stream",
     "text": [
      "\n",
      "[notice] A new release of pip is available: 24.0 -> 24.2\n",
      "[notice] To update, run: python.exe -m pip install --upgrade pip\n"
     ]
    }
   ],
   "source": [
    "pip install plotly"
   ]
  },
  {
   "cell_type": "code",
   "execution_count": 5,
   "id": "681c0eda-fcfb-46bb-977d-f4a4162b34c7",
   "metadata": {},
   "outputs": [
    {
     "name": "stdout",
     "output_type": "stream",
     "text": [
      "Requirement already satisfied: joblib==1.4.2 in c:\\users\\cheth\\onedrive\\desktop\\bugbytes-ml\\breakingbug-ml\\venv\\lib\\site-packages (from -r requirements.txt (line 1)) (1.4.2)\n",
      "Requirement already satisfied: numpy==2.0.1 in c:\\users\\cheth\\onedrive\\desktop\\bugbytes-ml\\breakingbug-ml\\venv\\lib\\site-packages (from -r requirements.txt (line 2)) (2.0.1)\n",
      "Requirement already satisfied: scikit-learn==1.5.1 in c:\\users\\cheth\\onedrive\\desktop\\bugbytes-ml\\breakingbug-ml\\venv\\lib\\site-packages (from -r requirements.txt (line 3)) (1.5.1)\n",
      "Requirement already satisfied: scipy==1.14.0 in c:\\users\\cheth\\onedrive\\desktop\\bugbytes-ml\\breakingbug-ml\\venv\\lib\\site-packages (from -r requirements.txt (line 4)) (1.14.0)\n",
      "Requirement already satisfied: threadpoolctl==3.5.0 in c:\\users\\cheth\\onedrive\\desktop\\bugbytes-ml\\breakingbug-ml\\venv\\lib\\site-packages (from -r requirements.txt (line 5)) (3.5.0)\n",
      "Requirement already satisfied: xgboost==2.1.1 in c:\\users\\cheth\\onedrive\\desktop\\bugbytes-ml\\breakingbug-ml\\venv\\lib\\site-packages (from -r requirements.txt (line 6)) (2.1.1)\n",
      "Note: you may need to restart the kernel to use updated packages.\n"
     ]
    },
    {
     "name": "stderr",
     "output_type": "stream",
     "text": [
      "\n",
      "[notice] A new release of pip is available: 24.0 -> 24.2\n",
      "[notice] To update, run: python.exe -m pip install --upgrade pip\n"
     ]
    }
   ],
   "source": [
    "pip install -r requirements.txt"
   ]
  },
  {
   "cell_type": "code",
   "execution_count": 8,
   "id": "40ca9543-04bf-40e5-8405-db72cc055eac",
   "metadata": {},
   "outputs": [
    {
     "name": "stdout",
     "output_type": "stream",
     "text": [
      "Collecting yellowbrick\n",
      "  Downloading yellowbrick-1.5-py3-none-any.whl.metadata (7.7 kB)\n",
      "Requirement already satisfied: matplotlib!=3.0.0,>=2.0.2 in c:\\users\\cheth\\onedrive\\desktop\\bugbytes-ml\\breakingbug-ml\\venv\\lib\\site-packages (from yellowbrick) (3.9.1)\n",
      "Requirement already satisfied: scipy>=1.0.0 in c:\\users\\cheth\\onedrive\\desktop\\bugbytes-ml\\breakingbug-ml\\venv\\lib\\site-packages (from yellowbrick) (1.14.0)\n",
      "Requirement already satisfied: scikit-learn>=1.0.0 in c:\\users\\cheth\\onedrive\\desktop\\bugbytes-ml\\breakingbug-ml\\venv\\lib\\site-packages (from yellowbrick) (1.5.1)\n",
      "Requirement already satisfied: numpy>=1.16.0 in c:\\users\\cheth\\onedrive\\desktop\\bugbytes-ml\\breakingbug-ml\\venv\\lib\\site-packages (from yellowbrick) (2.0.1)\n",
      "Requirement already satisfied: cycler>=0.10.0 in c:\\users\\cheth\\onedrive\\desktop\\bugbytes-ml\\breakingbug-ml\\venv\\lib\\site-packages (from yellowbrick) (0.12.1)\n",
      "Requirement already satisfied: contourpy>=1.0.1 in c:\\users\\cheth\\onedrive\\desktop\\bugbytes-ml\\breakingbug-ml\\venv\\lib\\site-packages (from matplotlib!=3.0.0,>=2.0.2->yellowbrick) (1.2.1)\n",
      "Requirement already satisfied: fonttools>=4.22.0 in c:\\users\\cheth\\onedrive\\desktop\\bugbytes-ml\\breakingbug-ml\\venv\\lib\\site-packages (from matplotlib!=3.0.0,>=2.0.2->yellowbrick) (4.53.1)\n",
      "Requirement already satisfied: kiwisolver>=1.3.1 in c:\\users\\cheth\\onedrive\\desktop\\bugbytes-ml\\breakingbug-ml\\venv\\lib\\site-packages (from matplotlib!=3.0.0,>=2.0.2->yellowbrick) (1.4.5)\n",
      "Requirement already satisfied: packaging>=20.0 in c:\\users\\cheth\\onedrive\\desktop\\bugbytes-ml\\breakingbug-ml\\venv\\lib\\site-packages (from matplotlib!=3.0.0,>=2.0.2->yellowbrick) (24.1)\n",
      "Requirement already satisfied: pillow>=8 in c:\\users\\cheth\\onedrive\\desktop\\bugbytes-ml\\breakingbug-ml\\venv\\lib\\site-packages (from matplotlib!=3.0.0,>=2.0.2->yellowbrick) (10.4.0)\n",
      "Requirement already satisfied: pyparsing>=2.3.1 in c:\\users\\cheth\\onedrive\\desktop\\bugbytes-ml\\breakingbug-ml\\venv\\lib\\site-packages (from matplotlib!=3.0.0,>=2.0.2->yellowbrick) (3.1.2)\n",
      "Requirement already satisfied: python-dateutil>=2.7 in c:\\users\\cheth\\onedrive\\desktop\\bugbytes-ml\\breakingbug-ml\\venv\\lib\\site-packages (from matplotlib!=3.0.0,>=2.0.2->yellowbrick) (2.9.0.post0)\n",
      "Requirement already satisfied: joblib>=1.2.0 in c:\\users\\cheth\\onedrive\\desktop\\bugbytes-ml\\breakingbug-ml\\venv\\lib\\site-packages (from scikit-learn>=1.0.0->yellowbrick) (1.4.2)\n",
      "Requirement already satisfied: threadpoolctl>=3.1.0 in c:\\users\\cheth\\onedrive\\desktop\\bugbytes-ml\\breakingbug-ml\\venv\\lib\\site-packages (from scikit-learn>=1.0.0->yellowbrick) (3.5.0)\n",
      "Requirement already satisfied: six>=1.5 in c:\\users\\cheth\\onedrive\\desktop\\bugbytes-ml\\breakingbug-ml\\venv\\lib\\site-packages (from python-dateutil>=2.7->matplotlib!=3.0.0,>=2.0.2->yellowbrick) (1.16.0)\n",
      "Downloading yellowbrick-1.5-py3-none-any.whl (282 kB)\n",
      "   ---------------------------------------- 0.0/282.6 kB ? eta -:--:--\n",
      "   - -------------------------------------- 10.2/282.6 kB ? eta -:--:--\n",
      "   -- ------------------------------------ 20.5/282.6 kB 165.2 kB/s eta 0:00:02\n",
      "   ---- ---------------------------------- 30.7/282.6 kB 217.9 kB/s eta 0:00:02\n",
      "   -------- ------------------------------ 61.4/282.6 kB 328.2 kB/s eta 0:00:01\n",
      "   ------------- ------------------------ 102.4/282.6 kB 454.0 kB/s eta 0:00:01\n",
      "   ---------------------- --------------- 163.8/282.6 kB 614.4 kB/s eta 0:00:01\n",
      "   ------------------------------ ------- 225.3/282.6 kB 724.0 kB/s eta 0:00:01\n",
      "   -------------------------------------  276.5/282.6 kB 811.7 kB/s eta 0:00:01\n",
      "   -------------------------------------- 282.6/282.6 kB 758.7 kB/s eta 0:00:00\n",
      "Installing collected packages: yellowbrick\n",
      "Successfully installed yellowbrick-1.5\n",
      "Note: you may need to restart the kernel to use updated packages.\n"
     ]
    },
    {
     "name": "stderr",
     "output_type": "stream",
     "text": [
      "\n",
      "[notice] A new release of pip is available: 24.0 -> 24.2\n",
      "[notice] To update, run: python.exe -m pip install --upgrade pip\n"
     ]
    }
   ],
   "source": [
    "pip install yellowbrick"
   ]
  },
  {
   "cell_type": "code",
   "execution_count": 16,
   "id": "d108ffd0-16b8-48ac-b325-9c39928f31be",
   "metadata": {},
   "outputs": [
    {
     "name": "stdout",
     "output_type": "stream",
     "text": [
      "Collecting lightgbm\n",
      "  Downloading lightgbm-4.5.0-py3-none-win_amd64.whl.metadata (17 kB)\n",
      "Requirement already satisfied: numpy>=1.17.0 in c:\\users\\cheth\\onedrive\\desktop\\bugbytes-ml\\breakingbug-ml\\venv\\lib\\site-packages (from lightgbm) (2.0.1)\n",
      "Requirement already satisfied: scipy in c:\\users\\cheth\\onedrive\\desktop\\bugbytes-ml\\breakingbug-ml\\venv\\lib\\site-packages (from lightgbm) (1.14.0)\n",
      "Downloading lightgbm-4.5.0-py3-none-win_amd64.whl (1.4 MB)\n",
      "   ---------------------------------------- 0.0/1.4 MB ? eta -:--:--\n",
      "   ---------------------------------------- 0.0/1.4 MB ? eta -:--:--\n",
      "   - -------------------------------------- 0.0/1.4 MB 1.9 MB/s eta 0:00:01\n",
      "   -- ------------------------------------- 0.1/1.4 MB 2.0 MB/s eta 0:00:01\n",
      "   -- ------------------------------------- 0.1/1.4 MB 2.0 MB/s eta 0:00:01\n",
      "   ----- ---------------------------------- 0.2/1.4 MB 1.1 MB/s eta 0:00:02\n",
      "   ------ --------------------------------- 0.2/1.4 MB 981.9 kB/s eta 0:00:02\n",
      "   ------------- -------------------------- 0.5/1.4 MB 1.7 MB/s eta 0:00:01\n",
      "   ---------------- ----------------------- 0.6/1.4 MB 2.0 MB/s eta 0:00:01\n",
      "   ----------------- ---------------------- 0.6/1.4 MB 1.8 MB/s eta 0:00:01\n",
      "   -------------------- ------------------- 0.8/1.4 MB 1.9 MB/s eta 0:00:01\n",
      "   ------------------------ --------------- 0.9/1.4 MB 1.9 MB/s eta 0:00:01\n",
      "   --------------------------- ------------ 1.0/1.4 MB 2.0 MB/s eta 0:00:01\n",
      "   ----------------------------- ---------- 1.1/1.4 MB 2.0 MB/s eta 0:00:01\n",
      "   ---------------------------------- ----- 1.2/1.4 MB 2.1 MB/s eta 0:00:01\n",
      "   ------------------------------------- -- 1.3/1.4 MB 2.1 MB/s eta 0:00:01\n",
      "   -------------------------------------- - 1.4/1.4 MB 2.1 MB/s eta 0:00:01\n",
      "   -------------------------------------- - 1.4/1.4 MB 2.1 MB/s eta 0:00:01\n",
      "   -------------------------------------- - 1.4/1.4 MB 2.1 MB/s eta 0:00:01\n",
      "   -------------------------------------- - 1.4/1.4 MB 2.1 MB/s eta 0:00:01\n",
      "   -------------------------------------- - 1.4/1.4 MB 2.1 MB/s eta 0:00:01\n",
      "   ---------------------------------------  1.4/1.4 MB 1.6 MB/s eta 0:00:01\n",
      "   ---------------------------------------- 1.4/1.4 MB 1.5 MB/s eta 0:00:00\n",
      "Installing collected packages: lightgbm\n",
      "Successfully installed lightgbm-4.5.0\n",
      "Note: you may need to restart the kernel to use updated packages.\n"
     ]
    },
    {
     "name": "stderr",
     "output_type": "stream",
     "text": [
      "\n",
      "[notice] A new release of pip is available: 24.0 -> 24.2\n",
      "[notice] To update, run: python.exe -m pip install --upgrade pip\n"
     ]
    }
   ],
   "source": [
    "pip install lightgbm"
   ]
  },
  {
   "cell_type": "code",
   "execution_count": 19,
   "id": "e5df297c-34a4-48e9-a0ec-830d962d3a2f",
   "metadata": {},
   "outputs": [],
   "source": [
    "# import libraries\n",
    "\n",
    "# 1. to handle the data\n",
    "import pandas as pd\n",
    "import numpy as np\n",
    "\n",
    "# 2. To Viusalize the data\n",
    "import matplotlib.pyplot as plt\n",
    "import seaborn as sns\n",
    "import plotly.express as px\n",
    "from yellowbrick.cluster import KElbowVisualizer\n",
    "from matplotlib.colors import ListedColormap\n",
    "\n",
    "# 3. To preprocess the data\n",
    "from sklearn.preprocessing import StandardScaler, MinMaxScaler, LabelEncoder\n",
    "from sklearn.impute import SimpleImputer, KNNImputer\n",
    "\n",
    "# 4. import Iterative imputer\n",
    "from sklearn.experimental import enable_iterative_imputer\n",
    "from sklearn.impute import IterativeImputer\n",
    "\n",
    "# 5. Machine Learning\n",
    "from sklearn.model_selection import train_test_split, GridSearchCV, cross_val_score\n",
    "\n",
    "# 6. For Classification task.\n",
    "from sklearn.linear_model import LogisticRegression\n",
    "from sklearn.neighbors import KNeighborsClassifier\n",
    "from sklearn.svm import SVC\n",
    "from sklearn.tree import DecisionTreeClassifier, plot_tree\n",
    "from sklearn.ensemble import RandomForestClassifier, AdaBoostClassifier, GradientBoostingClassifier\n",
    "from xgboost import XGBClassifier\n",
    "from lightgbm import LGBMClassifier\n",
    "from sklearn.naive_bayes import GaussianNB\n",
    "\n",
    "\n",
    "# 7. Metrics\n",
    "from sklearn.metrics import accuracy_score, confusion_matrix, classification_report\n",
    "\n",
    "\n",
    "# 8. Ignore warnings\n",
    "import warnings\n",
    "warnings.filterwarnings('ignore')"
   ]
  },
  {
   "cell_type": "code",
   "execution_count": 21,
   "id": "11c60965-b944-46ab-9568-dc77d198ae9d",
   "metadata": {},
   "outputs": [
    {
     "name": "stdout",
     "output_type": "stream",
     "text": [
      "<class 'pandas.core.frame.DataFrame'>\n",
      "RangeIndex: 920 entries, 0 to 919\n",
      "Data columns (total 16 columns):\n",
      " #   Column    Non-Null Count  Dtype  \n",
      "---  ------    --------------  -----  \n",
      " 0   id        920 non-null    int64  \n",
      " 1   age       920 non-null    int64  \n",
      " 2   sex       920 non-null    object \n",
      " 3   dataset   920 non-null    object \n",
      " 4   cp        920 non-null    object \n",
      " 5   trestbps  861 non-null    float64\n",
      " 6   chol      890 non-null    float64\n",
      " 7   fbs       830 non-null    object \n",
      " 8   restecg   918 non-null    object \n",
      " 9   thalch    865 non-null    float64\n",
      " 10  exang     865 non-null    object \n",
      " 11  oldpeak   858 non-null    float64\n",
      " 12  slope     611 non-null    object \n",
      " 13  ca        309 non-null    float64\n",
      " 14  thal      434 non-null    object \n",
      " 15  num       920 non-null    int64  \n",
      "dtypes: float64(5), int64(3), object(8)\n",
      "memory usage: 115.1+ KB\n"
     ]
    },
    {
     "data": {
      "text/plain": [
       "count    920.000000\n",
       "mean      53.510870\n",
       "std        9.424685\n",
       "min       28.000000\n",
       "25%       47.000000\n",
       "50%       54.000000\n",
       "75%       60.000000\n",
       "max       77.000000\n",
       "Name: age, dtype: float64"
      ]
     },
     "execution_count": 21,
     "metadata": {},
     "output_type": "execute_result"
    }
   ],
   "source": [
    "df = pd.read_csv(\"dataset.csv\")\n",
    "\n",
    "# print the first 5 rows of the dataframe\n",
    "df.head()\n",
    "\n",
    "# Exploring the data type of each column\n",
    "df.info()\n",
    "\n",
    "# Checking the data shape\n",
    "df.shape\n",
    "\n",
    "# Id column\n",
    "df['id'].min(), df['id'].max()\n",
    "\n",
    "# age column\n",
    "df['age'].min(), df['age'].max()\n",
    "\n",
    "# lets summerize the age column\n",
    "df['age'].describe()"
   ]
  },
  {
   "cell_type": "code",
   "execution_count": null,
   "id": "81d92939-e62f-409e-8946-f114c8332ff1",
   "metadata": {},
   "outputs": [],
   "source": [
    "import seaborn as sns\n",
    "\n",
    "# Define custom colors\n",
    "custom_colors = [\"#FF5733\", \"#3366FF\", \"#33FF57\"]  # Example colors, you can adjust as needed\n",
    "\n",
    "# Plot the histogram with custom colors\n",
    "sns.histplot(df['age'], kde=True, color=\"#FF5733\", palette=custom_colors)\n",
    "\n",
    "\n",
    "# Plot the mean, Median and mode of age column using sns\n",
    "sns.histplot(df['age'], kde=True)\n",
    "plt.axvline(df['age'].mean(), color='Red')\n",
    "plt.axvline(df['age'].median(), color= 'Green')\n",
    "plt.axvline(df['age'].mode()[0], color='Blue')\n",
    "\n",
    "# print the value of mean, median and mode of age column\n",
    "print('Mean', df['age'].mean())\n",
    "print('Median', df['age'].median())\n",
    "print('Mode', df['age'].mode())\n",
    "\n",
    "\n",
    "# plot the histogram of age column using plotly and coloring this by sex\n",
    "fig = px.histogram(data_frame=df, x='age', color= 'sex')\n",
    "fig.show()\n",
    "\n",
    "# Find the values of sex column\n",
    "df['sex'].value_counts()\n",
    "\n",
    "# calculating the percentage fo male and female value counts in the data\n",
    "\n",
    "male_count = 726\n",
    "female_count = 194\n",
    "\n",
    "total_count = male_count + female_count\n",
    "\n",
    "# calculate percentages\n",
    "male_percentage = (male_count/total_count)*100\n",
    "female_percentages = (female_count/total_count)*100\n",
    "\n",
    "# display the results\n",
    "print(f'Male percentage i the data: {male_percentage:.2f}%')\n",
    "print(f'Female percentage in the data : {female_percentages:.2f}%')\n",
    "\n",
    "# Difference\n",
    "difference_percentage = ((male_count - female_count)/female_count) * 100\n",
    "print(f'Males are {difference_percentage:.2f}% more than female in the data.')\n"
   ]
  }
 ],
 "metadata": {
  "kernelspec": {
   "display_name": "Python 3 (ipykernel)",
   "language": "python",
   "name": "python3"
  },
  "language_info": {
   "codemirror_mode": {
    "name": "ipython",
    "version": 3
   },
   "file_extension": ".py",
   "mimetype": "text/x-python",
   "name": "python",
   "nbconvert_exporter": "python",
   "pygments_lexer": "ipython3",
   "version": "3.12.4"
  }
 },
 "nbformat": 4,
 "nbformat_minor": 5
}
